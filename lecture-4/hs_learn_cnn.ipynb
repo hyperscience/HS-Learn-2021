{
 "cells": [
  {
   "cell_type": "code",
   "execution_count": null,
   "id": "stupid-antibody",
   "metadata": {},
   "outputs": [],
   "source": [
    "# importing the libraries\n",
    "import numpy as np\n",
    "\n",
    "# for reading and displaying images\n",
    "import matplotlib.pyplot as plt\n",
    "%matplotlib inline\n",
    "\n",
    "# for creating validation set\n",
    "from sklearn.model_selection import train_test_split\n",
    "\n",
    "# for evaluating the model\n",
    "from sklearn.metrics import accuracy_score\n",
    "\n",
    "# PyTorch libraries and modules\n",
    "import torch\n",
    "from torch.nn import Linear, ReLU, Sequential, Conv2d, MaxPool2d, Module, BatchNorm2d, CrossEntropyLoss, Softmax\n",
    "from torch.optim import Adam"
   ]
  },
  {
   "cell_type": "code",
   "execution_count": null,
   "id": "alike-dominican",
   "metadata": {},
   "outputs": [],
   "source": [
    "import torchvision\n",
    "import torchvision.transforms as transforms\n",
    "transform = transforms.ToTensor()\n",
    "\n",
    "train_set = torchvision.datasets.MNIST(\n",
    "    root='./data/', train=True, transform=transform, download=True)\n",
    "val_set = torchvision.datasets.MNIST(\n",
    "    root='./data/', train=False, transform=transform, download=True)\n",
    "train_set.classes"
   ]
  },
  {
   "cell_type": "code",
   "execution_count": null,
   "id": "impossible-morrison",
   "metadata": {},
   "outputs": [],
   "source": [
    "def show_images(images):\n",
    "    fig = plt.figure(figsize=(64, 64))\n",
    "\n",
    "    for i in range(len(images)):\n",
    "        sub = fig.add_subplot(32, 1, i + 1)\n",
    "        sub.imshow(images[i])\n",
    "\n",
    "show_images(train_set.data[:5])\n",
    "train_set.targets[:5]"
   ]
  },
  {
   "cell_type": "code",
   "execution_count": null,
   "id": "7469f4d3",
   "metadata": {},
   "outputs": [],
   "source": [
    "train_loader = torch.utils.data.DataLoader(train_set, batch_size=32)\n",
    "val_loader = torch.utils.data.DataLoader(val_set, batch_size=len(val_set.data))"
   ]
  },
  {
   "cell_type": "code",
   "execution_count": null,
   "id": "82001c06",
   "metadata": {},
   "outputs": [],
   "source": [
    "# Define CNN model: 2 convolutional layers\n",
    "class ConvNet(Module):   \n",
    "    def __init__(self):\n",
    "        super().__init__()\n",
    "\n",
    "        self.cnn_layers = Sequential(\n",
    "            # shape is (batch_size, 1, 28, 28)\n",
    "            Conv2d(in_channels=1, out_channels=16, kernel_size=3, stride=1, padding=1),\n",
    "            # shape is (batch_size, 16, 28, 28)\n",
    "            BatchNorm2d(num_features=16),\n",
    "            ReLU(inplace=True),\n",
    "            MaxPool2d(kernel_size=2, stride=2),\n",
    "            # shape is (batch_size, 16, 14, 14)\n",
    "            Conv2d(in_channels=16, out_channels=16, kernel_size=3, stride=1, padding=1),\n",
    "            # shape is (batch_size, 16, 14, 14)\n",
    "            BatchNorm2d(num_features=16),\n",
    "            ReLU(inplace=True),\n",
    "            MaxPool2d(kernel_size=2, stride=2),\n",
    "            # shape is (batch_size, 16, 7, 7)\n",
    "        )\n",
    "\n",
    "        self.fc = Linear(in_features=16 * 7 * 7, out_features=10)\n",
    "\n",
    "    # Defining the forward pass    \n",
    "    def forward(self, x):\n",
    "        # shape is (batch_size, 1, 28, 28)\n",
    "        x = self.cnn_layers(x)\n",
    "        # shape is (batch_size, 16, 7, 7)\n",
    "        x = x.view(x.size(0), -1)\n",
    "        # shape is (batch_size, 16 * 7 * 7)\n",
    "        x = self.fc(x)\n",
    "        # shape is (batch_size, 10)\n",
    "        return x"
   ]
  },
  {
   "cell_type": "code",
   "execution_count": null,
   "id": "c3932a87",
   "metadata": {},
   "outputs": [],
   "source": [
    "model = ConvNet()\n",
    "criterion = torch.nn.CrossEntropyLoss()\n",
    "optimizer = Adam(model.parameters(), lr=0.001)\n",
    "train_losses = []\n",
    "val_losses = []\n",
    "running_train_loss = 0.0\n",
    "\n",
    "val_images, val_targets = next(iter(val_loader))\n",
    "if torch.cuda.is_available():\n",
    "    val_images = val_images.cuda()\n",
    "    val_targets = val_targets.cuda()\n",
    "\n",
    "for epoch in range(3):\n",
    "    for batch_id, (images, targets) in enumerate(train_loader):\n",
    "        optimizer.zero_grad()\n",
    "\n",
    "        if torch.cuda.is_available():\n",
    "            images = images.cuda()\n",
    "            targets = targets.cuda()\n",
    "            \n",
    "        outputs = model(images)\n",
    "        loss = criterion(outputs, targets)\n",
    "        loss.backward()\n",
    "        running_train_loss += loss.item()\n",
    "        optimizer.step()\n",
    "        \n",
    "        if batch_id and batch_id % 200 == 0:\n",
    "            val_outputs = model(val_images)\n",
    "            val_loss = criterion(val_outputs, val_targets)\n",
    "            val_losses.append(val_loss)\n",
    "            \n",
    "            running_train_loss /= 200\n",
    "            train_losses.append(running_train_loss)\n",
    "            print(f'Epoch {epoch} Batch {batch_id}: Loss is {running_train_loss} Validation loss is: {val_loss}')\n",
    "            running_train_loss = 0\n",
    "\n",
    "print('Finished Training')"
   ]
  },
  {
   "cell_type": "code",
   "execution_count": null,
   "id": "lesser-singles",
   "metadata": {},
   "outputs": [],
   "source": [
    "# plot the training and validation losses\n",
    "plt.plot(train_losses, label='Training loss')\n",
    "plt.plot(val_losses, label='Validation loss')\n",
    "plt.legend()\n",
    "plt.show()"
   ]
  },
  {
   "cell_type": "code",
   "execution_count": null,
   "id": "dedicated-capital",
   "metadata": {},
   "outputs": [],
   "source": [
    "def accuracy_on_a_set(images, labels):\n",
    "    with torch.no_grad():\n",
    "        output = model(images)\n",
    "    \n",
    "    softmax = Softmax(dim=1)(output).cpu()\n",
    "    predictions = np.argmax(softmax, axis=1)\n",
    "\n",
    "    return accuracy_score(labels, predictions)\n",
    "\n",
    "full_train_images, full_train_targets = next(iter(torch.utils.data.DataLoader(train_set, batch_size=len(train_set.data))))\n",
    "print('accuracy on training set', accuracy_on_a_set(full_train_images, full_train_targets))\n",
    "print('accuracy on validation set', accuracy_on_a_set(val_images, val_targets))"
   ]
  }
 ],
 "metadata": {
  "kernelspec": {
   "display_name": "Python 3",
   "language": "python",
   "name": "python3"
  },
  "language_info": {
   "codemirror_mode": {
    "name": "ipython",
    "version": 3
   },
   "file_extension": ".py",
   "mimetype": "text/x-python",
   "name": "python",
   "nbconvert_exporter": "python",
   "pygments_lexer": "ipython3",
   "version": "3.7.9"
  }
 },
 "nbformat": 4,
 "nbformat_minor": 5
}
