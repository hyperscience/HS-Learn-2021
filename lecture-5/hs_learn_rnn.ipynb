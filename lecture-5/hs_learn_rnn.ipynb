{
 "cells": [
  {
   "cell_type": "code",
   "execution_count": null,
   "id": "stupid-antibody",
   "metadata": {},
   "outputs": [],
   "source": [
    "# importing the libraries\n",
    "import numpy as np\n",
    "\n",
    "# for reading and displaying images\n",
    "import matplotlib.pyplot as plt\n",
    "%matplotlib inline\n",
    "\n",
    "# PyTorch libraries and modules\n",
    "import torch\n",
    "import torch.nn as nn\n",
    "import torch.nn.functional as F"
   ]
  },
  {
   "cell_type": "markdown",
   "id": "4dcedf27",
   "metadata": {},
   "source": [
    "## Dataset\n",
    "In this toy example, we generate images of handwritten digits by contatenating MNIST digits"
   ]
  },
  {
   "cell_type": "code",
   "execution_count": null,
   "id": "2bfe64ac",
   "metadata": {
    "scrolled": true
   },
   "outputs": [],
   "source": [
    "import torchvision\n",
    "import torchvision.transforms as transforms\n",
    "import random\n",
    "\n",
    "MAX_DIGITS = 8\n",
    "BLANK_SYMBOL = 10\n",
    "\n",
    "transform = transforms.ToTensor()\n",
    "\n",
    "train_set = torchvision.datasets.MNIST(root='/tmp/MNIST/', train=True, transform=transform, download=True)\n",
    "test_set = torchvision.datasets.MNIST(root='/tmp/MNIST/', train=False, transform=transform, download=True)\n",
    "\n",
    "train_loader = torch.utils.data.DataLoader(\n",
    "    train_set,\n",
    "    batch_size=MAX_DIGITS,\n",
    "    shuffle=True)\n",
    "test_loader = torch.utils.data.DataLoader(\n",
    "    test_set,\n",
    "    batch_size=MAX_DIGITS,\n",
    "    shuffle=True)\n",
    "\n",
    "def sample_training_example(data_loader):\n",
    "    # Sample a random number of digits and join them together\n",
    "    images, class_labels = next(iter(data_loader))\n",
    "    num_digits = random.randint(1, MAX_DIGITS)\n",
    "    joined_image = images[:num_digits, :, :].permute(2, 0, 1, 3).reshape(1, 1, 28, -1)\n",
    "    return joined_image, class_labels[:num_digits]\n",
    "    \n",
    "def generate_batch(data_loader, batch_size = 16):\n",
    "    batch_data = [sample_training_example(data_loader) for x in range(batch_size)]\n",
    "    images, targets = zip(*batch_data)\n",
    "    max_width = max(image.shape[3] for image in images)\n",
    "    sequence_lenghts = [target.shape[0] for target in targets]\n",
    "    max_length = max(sequence_lenghts)\n",
    "    \n",
    "    images = [\n",
    "        torch.nn.functional.pad(image, (0, max_width - image.shape[3]))\n",
    "        for image in images\n",
    "    ]\n",
    "    targets = [\n",
    "        torch.nn.functional.pad(target, (0, max_length - target.shape[0]), value=BLANK_SYMBOL)\n",
    "        for target in targets\n",
    "    ]\n",
    "    return torch.cat(images), torch.stack(targets), sequence_lenghts\n",
    "\n",
    "\n",
    "image, targets = sample_training_example(train_loader)\n",
    "plt.imshow(image.squeeze())\n",
    "plt.show()\n",
    "print(f\"Target Sequence  : \\t{np.array(targets)}\")"
   ]
  },
  {
   "cell_type": "markdown",
   "id": "aba528ea",
   "metadata": {},
   "source": [
    "## Model\n",
    "We define our model, which is an LSTM on top of a Convolutional Neural Network.  This model treats each image as a sequence of image slices and classifies the digits in these slices. "
   ]
  },
  {
   "cell_type": "code",
   "execution_count": null,
   "id": "8d64d7dc",
   "metadata": {},
   "outputs": [],
   "source": [
    "from torch.nn import Linear, ReLU, Sequential, Conv2d, MaxPool2d, Module, BatchNorm2d, CrossEntropyLoss, Softmax\n",
    "from torch.nn.utils.rnn import pack_padded_sequence, pad_packed_sequence\n",
    "\n",
    "class NumberReaderModel(nn.Module):\n",
    "    def __init__(self, hidden_size=16, num_layers=1, n_classes=11):\n",
    "        super().__init__()\n",
    "        \n",
    "        # CNN for feature extraction\n",
    "        self.cnn_layers = Sequential(\n",
    "            Conv2d(in_channels=1, out_channels=16, kernel_size=3, stride=1, padding=1),\n",
    "            BatchNorm2d(num_features=16),\n",
    "            ReLU(inplace=True),\n",
    "            MaxPool2d(kernel_size=2, stride=2),\n",
    "            Conv2d(in_channels=16, out_channels=16, kernel_size=3, stride=1, padding=1),\n",
    "            BatchNorm2d(num_features=16),\n",
    "            ReLU(inplace=True),\n",
    "            MaxPool2d(kernel_size=2, stride=2),\n",
    "        )\n",
    "        \n",
    "        # LSTM for sequential predictions\n",
    "        self.lstm = nn.LSTM(\n",
    "            input_size=7 * 7 * 16,\n",
    "            hidden_size=hidden_size,\n",
    "            num_layers=num_layers,\n",
    "        )\n",
    "        \n",
    "        # Linear layer to classify the output\n",
    "        self.linear = nn.Linear(\n",
    "            in_features=hidden_size,\n",
    "            out_features=n_classes\n",
    "        )\n",
    "         \n",
    "    def forward(self, x):\n",
    "        x, sequence_lengths = x\n",
    "        x = self.cnn_layers(x)\n",
    "        \n",
    "        # We have to reshape the output of the CNN from \n",
    "        # (batches, channels, height, width) to (batches, sequence_length, dimensions)\n",
    "        # for the LSTM\n",
    "        batches, channels, height, width = x.shape\n",
    "        \n",
    "        # height is 7, width is 7 * N where N is the maximum digit count in the batch\n",
    "        x = torch.reshape(x, (batches, channels, height, width // height, height))\n",
    "        x = torch.transpose(x, 1, 3)\n",
    "        x = torch.reshape(x, (batches, -1, channels * height * height))\n",
    "        \n",
    "        # this helper function pads the sequences to be the same length\n",
    "        padded_sequence = pack_padded_sequence(x, sequence_lengths, batch_first=True, enforce_sorted=False)\n",
    "        \n",
    "        x, _ = self.lstm(padded_sequence)\n",
    "        x, _ = pad_packed_sequence(x, batch_first=True)\n",
    "        x = self.linear(x)\n",
    "                            \n",
    "        return F.log_softmax(x, dim=2)"
   ]
  },
  {
   "cell_type": "markdown",
   "id": "46b06f41",
   "metadata": {},
   "source": [
    "## Train the model"
   ]
  },
  {
   "cell_type": "code",
   "execution_count": null,
   "id": "bc9f61a5",
   "metadata": {},
   "outputs": [],
   "source": [
    "model = NumberReaderModel()\n",
    "loss_function = nn.CrossEntropyLoss(ignore_index=BLANK_SYMBOL)\n",
    "optimizer = torch.optim.Adam(model.parameters(), lr=0.001)\n",
    "for step in range(1000):\n",
    "    optimizer.zero_grad()\n",
    "    \n",
    "    image, targets, sequence_lengths = generate_batch(train_loader)\n",
    "    predictions = model((image, sequence_lengths))\n",
    "\n",
    "    # we have to be careful about to match the predictions and targets\n",
    "    loss = loss_function(predictions.permute(0, 2, 1), targets)\n",
    "    loss.backward()\n",
    "    optimizer.step()\n",
    "    \n",
    "    \n",
    "    if step % 50 == 0:\n",
    "        print(f\"Step : {step}\\t loss : {loss}\")"
   ]
  },
  {
   "cell_type": "code",
   "execution_count": null,
   "id": "349c9985",
   "metadata": {},
   "outputs": [],
   "source": [
    "image, targets = sample_training_example(test_loader)\n",
    "plt.imshow(image.squeeze())\n",
    "plt.show()\n",
    "\n",
    "prediction = model((image, [image.shape[3] // 28]))\n",
    "predicted_digits = np.argmax(prediction.detach().numpy()[0], axis=1)\n",
    "print(f\"Target Sequence  : \\t{np.array(targets)}\")\n",
    "print(f\"Model Prediction : \\t{predicted_digits}\")"
   ]
  },
  {
   "cell_type": "code",
   "execution_count": null,
   "id": "a4236e84",
   "metadata": {},
   "outputs": [],
   "source": []
  }
 ],
 "metadata": {
  "kernelspec": {
   "display_name": "Python 3",
   "language": "python",
   "name": "python3"
  },
  "language_info": {
   "codemirror_mode": {
    "name": "ipython",
    "version": 3
   },
   "file_extension": ".py",
   "mimetype": "text/x-python",
   "name": "python",
   "nbconvert_exporter": "python",
   "pygments_lexer": "ipython3",
   "version": "3.7.9"
  }
 },
 "nbformat": 4,
 "nbformat_minor": 5
}
