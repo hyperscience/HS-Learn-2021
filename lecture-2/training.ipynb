{
 "cells": [
  {
   "cell_type": "code",
   "execution_count": null,
   "id": "a3033969",
   "metadata": {},
   "outputs": [],
   "source": [
    "import matplotlib.pyplot as plt\n",
    "from matplotlib import image\n",
    "\n",
    "image_5 = image.imread('./images/5.png')\n",
    "plt.imshow(image_5)"
   ]
  },
  {
   "cell_type": "code",
   "execution_count": null,
   "id": "ef64d916",
   "metadata": {},
   "outputs": [],
   "source": [
    "import torch\n",
    "import torch.nn.functional as F\n",
    "\n",
    "class NeuralNet(torch.nn.Module):\n",
    "    def __init__(self):\n",
    "        super().__init__()\n",
    "        self.fc1 = torch.nn.Linear(28 * 28, 512)\n",
    "        self.fc2 = torch.nn.Linear(512, 256)\n",
    "        self.fc3 = torch.nn.Linear(256, 10)\n",
    "\n",
    "    def forward(self, x):\n",
    "        x = torch.flatten(x, 1)\n",
    "        x = F.relu(self.fc1(x))\n",
    "        x = F.relu(self.fc2(x))\n",
    "        x = self.fc3(x)\n",
    "        return x"
   ]
  },
  {
   "cell_type": "code",
   "execution_count": null,
   "id": "6c27495d",
   "metadata": {},
   "outputs": [],
   "source": [
    "net = NeuralNet()\n",
    "\n",
    "input_tensor = torch.tensor([image_5], dtype=torch.float32)\n",
    "outputs = net(input_tensor)\n",
    "outputs, torch.argmax(outputs)"
   ]
  },
  {
   "cell_type": "code",
   "execution_count": null,
   "id": "4a3f964b",
   "metadata": {},
   "outputs": [],
   "source": [
    "loss = torch.nn.L1Loss()\n",
    "output_tensor = torch.tensor([0.5, 0.0, 0.5], requires_grad=True)\n",
    "target_tensor = torch.tensor([1.0, 0.0, 0.0])\n",
    "loss(output_tensor, target_tensor)"
   ]
  },
  {
   "cell_type": "code",
   "execution_count": null,
   "id": "550c6f17",
   "metadata": {
    "scrolled": true
   },
   "outputs": [],
   "source": [
    "loss = torch.nn.CrossEntropyLoss()\n",
    "output_tensor = torch.tensor([[10.0, 15.0, 3.0]], requires_grad=True)\n",
    "target_tensor = torch.tensor([1])\n",
    "loss(output_tensor, target_tensor)"
   ]
  },
  {
   "cell_type": "code",
   "execution_count": null,
   "id": "59df9d19",
   "metadata": {},
   "outputs": [],
   "source": [
    "loss = torch.nn.MSELoss()\n",
    "output_tensor = torch.tensor([5.0, 2.0, 3.0], requires_grad=True)\n",
    "target_tensor = torch.tensor([3.0, 2.0, 1.0])\n",
    "loss(output_tensor, target_tensor)"
   ]
  },
  {
   "cell_type": "code",
   "execution_count": null,
   "id": "98e4e3fc",
   "metadata": {},
   "outputs": [],
   "source": [
    "import torchvision\n",
    "import torchvision.transforms as transforms\n",
    "transform = transforms.ToTensor()\n",
    "\n",
    "train_set = torchvision.datasets.MNIST(\n",
    "    root='./data/', train=True, transform=transform, download=True)\n",
    "test_set = torchvision.datasets.MNIST(\n",
    "    root='./data/', train=False, transform=transform, download=True)\n",
    "train_set.classes"
   ]
  },
  {
   "cell_type": "code",
   "execution_count": null,
   "id": "f49cd093",
   "metadata": {
    "scrolled": false
   },
   "outputs": [],
   "source": [
    "def show_images(images):\n",
    "    fig = plt.figure(figsize=(64, 64))\n",
    "\n",
    "    for i in range(len(images)):\n",
    "        sub = fig.add_subplot(32, 1, i + 1)\n",
    "        sub.imshow(images[i])\n",
    "\n",
    "show_images(train_set.data[:5])\n",
    "train_set.targets[:5]"
   ]
  },
  {
   "cell_type": "code",
   "execution_count": null,
   "id": "faf8e10f",
   "metadata": {},
   "outputs": [],
   "source": [
    "net = NeuralNet()\n",
    "criterion = torch.nn.CrossEntropyLoss()\n",
    "optimizer = torch.optim.SGD(net.parameters(), lr=0.001, momentum=0.9)\n",
    "\n",
    "images = train_set.data / 255 # torch.Size([60000, 28, 28])\n",
    "targets = train_set.targets # torch.Size([60000])\n",
    "\n",
    "for epoch in range(20):\n",
    "    optimizer.zero_grad()\n",
    "    \n",
    "    outputs = net(images)\n",
    "    loss = criterion(outputs, targets)\n",
    "    loss.backward()\n",
    "    optimizer.step()\n",
    "    \n",
    "    epoch_loss = loss.item()\n",
    "    print(f'Epoch {epoch}: Loss is {epoch_loss}')\n",
    "\n",
    "print('Finished Training')"
   ]
  },
  {
   "cell_type": "code",
   "execution_count": null,
   "id": "c41e879d",
   "metadata": {},
   "outputs": [],
   "source": [
    "train_loader = torch.utils.data.DataLoader(train_set, batch_size=32)\n",
    "test_loader = torch.utils.data.DataLoader(test_set, batch_size=5)"
   ]
  },
  {
   "cell_type": "code",
   "execution_count": null,
   "id": "cbd60a6c",
   "metadata": {},
   "outputs": [],
   "source": [
    "net = NeuralNet()\n",
    "criterion = torch.nn.CrossEntropyLoss()\n",
    "optimizer = torch.optim.SGD(net.parameters(), lr=0.001, momentum=0.9)\n",
    "\n",
    "for epoch in range(3):\n",
    "    for batch_id, (images, targets) in enumerate(train_loader):\n",
    "        optimizer.zero_grad()\n",
    "\n",
    "        outputs = net(images)\n",
    "        loss = criterion(outputs, targets)\n",
    "        loss.backward()\n",
    "        optimizer.step()\n",
    "        \n",
    "        last_loss = loss.item()\n",
    "        if batch_id % 500 == 0:\n",
    "            print(f'Batch {batch_id}: Loss is {last_loss}')\n",
    "    print(f'Epoch {epoch}: Loss is {last_loss}')\n",
    "\n",
    "print('Finished Training')"
   ]
  },
  {
   "cell_type": "code",
   "execution_count": null,
   "id": "5615aff0",
   "metadata": {},
   "outputs": [],
   "source": [
    "images, targets = next(iter(test_loader))\n",
    "show_images(images[:, 0, :, :])\n",
    "print(targets)"
   ]
  },
  {
   "cell_type": "code",
   "execution_count": null,
   "id": "92dd9b29",
   "metadata": {},
   "outputs": [],
   "source": [
    "outputs = net(images)\n",
    "print(outputs[0])\n",
    "torch.argmax(outputs, dim=1)"
   ]
  }
 ],
 "metadata": {
  "kernelspec": {
   "display_name": "Python 3",
   "language": "python",
   "name": "python3"
  },
  "language_info": {
   "codemirror_mode": {
    "name": "ipython",
    "version": 3
   },
   "file_extension": ".py",
   "mimetype": "text/x-python",
   "name": "python",
   "nbconvert_exporter": "python",
   "pygments_lexer": "ipython3",
   "version": "3.7.9"
  }
 },
 "nbformat": 4,
 "nbformat_minor": 5
}
